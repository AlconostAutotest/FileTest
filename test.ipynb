{
 "cells": [
  {
   "cell_type": "code",
   "execution_count": 0,
   "metadata": {
    "cellView": "form",
    "colab": {},
    "colab_type": "code",
    "id": "l534d35Gp68G"
   },
   "outputs": [],
   "source": [
  "function sleep(milliseconds) {\n",
  " const date = Date.now();\n",
  " let currentDate = null;\n",
  " do {\n",
  "  currentDate = Date.now();\n",
  " }\n",
  " while (currentDate - date < milliseconds);\n"
  "}"
   ]
  }
  ]
}
